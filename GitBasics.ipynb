{
 "cells": [
  {
   "cell_type": "code",
   "execution_count": 1,
   "metadata": {},
   "outputs": [
    {
     "name": "stdout",
     "output_type": "stream",
     "text": [
      "\u001b[0m\u001b[01;34manaconda3\u001b[0m/  \u001b[01;34mDownloads\u001b[0m/        \u001b[01;34mgreyatom\u001b[0m/  \u001b[01;34mPublic\u001b[0m/     \u001b[01;34mVideos\u001b[0m/\r\n",
      "\u001b[01;34mDesktop\u001b[0m/    examples.desktop  \u001b[01;34mMusic\u001b[0m/     \u001b[01;34msnap\u001b[0m/\r\n",
      "\u001b[01;34mDocuments\u001b[0m/  GitBasics.ipynb   \u001b[01;34mPictures\u001b[0m/  \u001b[01;34mTemplates\u001b[0m/\r\n"
     ]
    }
   ],
   "source": [
    "ls"
   ]
  }
 ],
 "metadata": {
  "kernelspec": {
   "display_name": "Python 3",
   "language": "python",
   "name": "python3"
  },
  "language_info": {
   "codemirror_mode": {
    "name": "ipython",
    "version": 3
   },
   "file_extension": ".py",
   "mimetype": "text/x-python",
   "name": "python",
   "nbconvert_exporter": "python",
   "pygments_lexer": "ipython3",
   "version": "3.7.1"
  }
 },
 "nbformat": 4,
 "nbformat_minor": 2
}
